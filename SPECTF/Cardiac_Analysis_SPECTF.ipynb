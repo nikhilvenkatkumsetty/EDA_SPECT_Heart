{
  "nbformat": 4,
  "nbformat_minor": 0,
  "metadata": {
    "colab": {
      "name": "Cardiac Analysis SPECTF.ipynb",
      "provenance": [],
      "collapsed_sections": [],
      "authorship_tag": "ABX9TyMT38uSqRPQUSz1tWC8OFuJ",
      "include_colab_link": true
    },
    "kernelspec": {
      "name": "python3",
      "display_name": "Python 3"
    }
  },
  "cells": [
    {
      "cell_type": "markdown",
      "metadata": {
        "id": "view-in-github",
        "colab_type": "text"
      },
      "source": [
        "<a href=\"https://colab.research.google.com/github/theadityashukla/EDA_SPECT_Heart/blob/master/SPECTF/Cardiac_Analysis_SPECTF.ipynb\" target=\"_parent\"><img src=\"https://colab.research.google.com/assets/colab-badge.svg\" alt=\"Open In Colab\"/></a>"
      ]
    },
    {
      "cell_type": "markdown",
      "metadata": {
        "id": "wAOfs-tnFvsv",
        "colab_type": "text"
      },
      "source": [
        "# SPECTF"
      ]
    },
    {
      "cell_type": "markdown",
      "metadata": {
        "id": "DfGIGUi0HbfD",
        "colab_type": "text"
      },
      "source": [
        "## Loading Dependencies"
      ]
    },
    {
      "cell_type": "code",
      "metadata": {
        "id": "ILA7FCgE8NpB",
        "colab_type": "code",
        "colab": {}
      },
      "source": [
        "import pandas as pd\n",
        "import matplotlib.pyplot as plt\n",
        "import numpy as np\n",
        "from sklearn.metrics import accuracy_score"
      ],
      "execution_count": 0,
      "outputs": []
    },
    {
      "cell_type": "markdown",
      "metadata": {
        "id": "_fiSYnQxH9L1",
        "colab_type": "text"
      },
      "source": [
        "## Importing the Data Set"
      ]
    },
    {
      "cell_type": "code",
      "metadata": {
        "id": "je609hdH9WT-",
        "colab_type": "code",
        "outputId": "993914db-b34a-4d0c-f701-0c1e44079623",
        "colab": {
          "base_uri": "https://localhost:8080/",
          "height": 222
        }
      },
      "source": [
        "df=pd.read_csv(\"https://raw.githubusercontent.com/theadityashukla/EDA_SPECT_Heart/master/SPECTF/SPECTF_train.csv\")\n",
        "df.head()"
      ],
      "execution_count": 2,
      "outputs": [
        {
          "output_type": "execute_result",
          "data": {
            "text/html": [
              "<div>\n",
              "<style scoped>\n",
              "    .dataframe tbody tr th:only-of-type {\n",
              "        vertical-align: middle;\n",
              "    }\n",
              "\n",
              "    .dataframe tbody tr th {\n",
              "        vertical-align: top;\n",
              "    }\n",
              "\n",
              "    .dataframe thead th {\n",
              "        text-align: right;\n",
              "    }\n",
              "</style>\n",
              "<table border=\"1\" class=\"dataframe\">\n",
              "  <thead>\n",
              "    <tr style=\"text-align: right;\">\n",
              "      <th></th>\n",
              "      <th>1</th>\n",
              "      <th>59</th>\n",
              "      <th>52</th>\n",
              "      <th>70</th>\n",
              "      <th>67</th>\n",
              "      <th>73</th>\n",
              "      <th>66</th>\n",
              "      <th>72</th>\n",
              "      <th>61</th>\n",
              "      <th>58</th>\n",
              "      <th>52.1</th>\n",
              "      <th>72.1</th>\n",
              "      <th>71</th>\n",
              "      <th>70.1</th>\n",
              "      <th>77</th>\n",
              "      <th>66.1</th>\n",
              "      <th>65</th>\n",
              "      <th>67.1</th>\n",
              "      <th>55</th>\n",
              "      <th>61.1</th>\n",
              "      <th>57</th>\n",
              "      <th>68</th>\n",
              "      <th>66.2</th>\n",
              "      <th>72.2</th>\n",
              "      <th>74</th>\n",
              "      <th>63</th>\n",
              "      <th>64</th>\n",
              "      <th>56</th>\n",
              "      <th>54</th>\n",
              "      <th>67.2</th>\n",
              "      <th>54.1</th>\n",
              "      <th>76</th>\n",
              "      <th>74.1</th>\n",
              "      <th>65.1</th>\n",
              "      <th>67.3</th>\n",
              "      <th>66.3</th>\n",
              "      <th>56.1</th>\n",
              "      <th>62</th>\n",
              "      <th>56.2</th>\n",
              "      <th>72.3</th>\n",
              "      <th>62.1</th>\n",
              "      <th>74.2</th>\n",
              "      <th>74.3</th>\n",
              "      <th>64.1</th>\n",
              "      <th>67.4</th>\n",
              "    </tr>\n",
              "  </thead>\n",
              "  <tbody>\n",
              "    <tr>\n",
              "      <th>0</th>\n",
              "      <td>1</td>\n",
              "      <td>72</td>\n",
              "      <td>62</td>\n",
              "      <td>69</td>\n",
              "      <td>67</td>\n",
              "      <td>78</td>\n",
              "      <td>82</td>\n",
              "      <td>74</td>\n",
              "      <td>65</td>\n",
              "      <td>69</td>\n",
              "      <td>63</td>\n",
              "      <td>70</td>\n",
              "      <td>70</td>\n",
              "      <td>72</td>\n",
              "      <td>74</td>\n",
              "      <td>70</td>\n",
              "      <td>71</td>\n",
              "      <td>72</td>\n",
              "      <td>75</td>\n",
              "      <td>66</td>\n",
              "      <td>65</td>\n",
              "      <td>73</td>\n",
              "      <td>78</td>\n",
              "      <td>74</td>\n",
              "      <td>79</td>\n",
              "      <td>74</td>\n",
              "      <td>69</td>\n",
              "      <td>69</td>\n",
              "      <td>70</td>\n",
              "      <td>71</td>\n",
              "      <td>69</td>\n",
              "      <td>72</td>\n",
              "      <td>70</td>\n",
              "      <td>62</td>\n",
              "      <td>65</td>\n",
              "      <td>65</td>\n",
              "      <td>71</td>\n",
              "      <td>63</td>\n",
              "      <td>60</td>\n",
              "      <td>69</td>\n",
              "      <td>73</td>\n",
              "      <td>67</td>\n",
              "      <td>71</td>\n",
              "      <td>56</td>\n",
              "      <td>58</td>\n",
              "    </tr>\n",
              "    <tr>\n",
              "      <th>1</th>\n",
              "      <td>1</td>\n",
              "      <td>71</td>\n",
              "      <td>62</td>\n",
              "      <td>70</td>\n",
              "      <td>64</td>\n",
              "      <td>67</td>\n",
              "      <td>64</td>\n",
              "      <td>79</td>\n",
              "      <td>65</td>\n",
              "      <td>70</td>\n",
              "      <td>69</td>\n",
              "      <td>72</td>\n",
              "      <td>71</td>\n",
              "      <td>68</td>\n",
              "      <td>65</td>\n",
              "      <td>61</td>\n",
              "      <td>61</td>\n",
              "      <td>73</td>\n",
              "      <td>71</td>\n",
              "      <td>75</td>\n",
              "      <td>74</td>\n",
              "      <td>80</td>\n",
              "      <td>74</td>\n",
              "      <td>54</td>\n",
              "      <td>47</td>\n",
              "      <td>53</td>\n",
              "      <td>37</td>\n",
              "      <td>77</td>\n",
              "      <td>68</td>\n",
              "      <td>72</td>\n",
              "      <td>59</td>\n",
              "      <td>72</td>\n",
              "      <td>68</td>\n",
              "      <td>60</td>\n",
              "      <td>60</td>\n",
              "      <td>73</td>\n",
              "      <td>70</td>\n",
              "      <td>66</td>\n",
              "      <td>65</td>\n",
              "      <td>64</td>\n",
              "      <td>55</td>\n",
              "      <td>61</td>\n",
              "      <td>41</td>\n",
              "      <td>51</td>\n",
              "      <td>46</td>\n",
              "    </tr>\n",
              "    <tr>\n",
              "      <th>2</th>\n",
              "      <td>1</td>\n",
              "      <td>69</td>\n",
              "      <td>71</td>\n",
              "      <td>70</td>\n",
              "      <td>78</td>\n",
              "      <td>61</td>\n",
              "      <td>63</td>\n",
              "      <td>67</td>\n",
              "      <td>65</td>\n",
              "      <td>59</td>\n",
              "      <td>59</td>\n",
              "      <td>66</td>\n",
              "      <td>69</td>\n",
              "      <td>71</td>\n",
              "      <td>75</td>\n",
              "      <td>65</td>\n",
              "      <td>58</td>\n",
              "      <td>60</td>\n",
              "      <td>55</td>\n",
              "      <td>62</td>\n",
              "      <td>59</td>\n",
              "      <td>67</td>\n",
              "      <td>66</td>\n",
              "      <td>74</td>\n",
              "      <td>74</td>\n",
              "      <td>64</td>\n",
              "      <td>60</td>\n",
              "      <td>57</td>\n",
              "      <td>54</td>\n",
              "      <td>70</td>\n",
              "      <td>73</td>\n",
              "      <td>69</td>\n",
              "      <td>76</td>\n",
              "      <td>62</td>\n",
              "      <td>64</td>\n",
              "      <td>61</td>\n",
              "      <td>61</td>\n",
              "      <td>66</td>\n",
              "      <td>65</td>\n",
              "      <td>72</td>\n",
              "      <td>73</td>\n",
              "      <td>68</td>\n",
              "      <td>68</td>\n",
              "      <td>59</td>\n",
              "      <td>63</td>\n",
              "    </tr>\n",
              "    <tr>\n",
              "      <th>3</th>\n",
              "      <td>1</td>\n",
              "      <td>70</td>\n",
              "      <td>66</td>\n",
              "      <td>61</td>\n",
              "      <td>66</td>\n",
              "      <td>61</td>\n",
              "      <td>58</td>\n",
              "      <td>69</td>\n",
              "      <td>69</td>\n",
              "      <td>72</td>\n",
              "      <td>68</td>\n",
              "      <td>62</td>\n",
              "      <td>71</td>\n",
              "      <td>71</td>\n",
              "      <td>71</td>\n",
              "      <td>63</td>\n",
              "      <td>59</td>\n",
              "      <td>74</td>\n",
              "      <td>75</td>\n",
              "      <td>70</td>\n",
              "      <td>69</td>\n",
              "      <td>83</td>\n",
              "      <td>77</td>\n",
              "      <td>73</td>\n",
              "      <td>70</td>\n",
              "      <td>41</td>\n",
              "      <td>37</td>\n",
              "      <td>39</td>\n",
              "      <td>40</td>\n",
              "      <td>58</td>\n",
              "      <td>46</td>\n",
              "      <td>75</td>\n",
              "      <td>73</td>\n",
              "      <td>65</td>\n",
              "      <td>66</td>\n",
              "      <td>67</td>\n",
              "      <td>69</td>\n",
              "      <td>70</td>\n",
              "      <td>66</td>\n",
              "      <td>70</td>\n",
              "      <td>64</td>\n",
              "      <td>60</td>\n",
              "      <td>55</td>\n",
              "      <td>49</td>\n",
              "      <td>41</td>\n",
              "    </tr>\n",
              "    <tr>\n",
              "      <th>4</th>\n",
              "      <td>1</td>\n",
              "      <td>57</td>\n",
              "      <td>69</td>\n",
              "      <td>68</td>\n",
              "      <td>75</td>\n",
              "      <td>69</td>\n",
              "      <td>74</td>\n",
              "      <td>73</td>\n",
              "      <td>71</td>\n",
              "      <td>57</td>\n",
              "      <td>61</td>\n",
              "      <td>72</td>\n",
              "      <td>74</td>\n",
              "      <td>73</td>\n",
              "      <td>69</td>\n",
              "      <td>61</td>\n",
              "      <td>58</td>\n",
              "      <td>60</td>\n",
              "      <td>55</td>\n",
              "      <td>71</td>\n",
              "      <td>62</td>\n",
              "      <td>79</td>\n",
              "      <td>70</td>\n",
              "      <td>77</td>\n",
              "      <td>71</td>\n",
              "      <td>65</td>\n",
              "      <td>63</td>\n",
              "      <td>69</td>\n",
              "      <td>55</td>\n",
              "      <td>61</td>\n",
              "      <td>68</td>\n",
              "      <td>75</td>\n",
              "      <td>74</td>\n",
              "      <td>63</td>\n",
              "      <td>64</td>\n",
              "      <td>63</td>\n",
              "      <td>58</td>\n",
              "      <td>69</td>\n",
              "      <td>67</td>\n",
              "      <td>79</td>\n",
              "      <td>77</td>\n",
              "      <td>72</td>\n",
              "      <td>70</td>\n",
              "      <td>61</td>\n",
              "      <td>65</td>\n",
              "    </tr>\n",
              "  </tbody>\n",
              "</table>\n",
              "</div>"
            ],
            "text/plain": [
              "   1  59  52  70  67  73  66  72  ...  62  56.2  72.3  62.1  74.2  74.3  64.1  67.4\n",
              "0  1  72  62  69  67  78  82  74  ...  63    60    69    73    67    71    56    58\n",
              "1  1  71  62  70  64  67  64  79  ...  66    65    64    55    61    41    51    46\n",
              "2  1  69  71  70  78  61  63  67  ...  66    65    72    73    68    68    59    63\n",
              "3  1  70  66  61  66  61  58  69  ...  70    66    70    64    60    55    49    41\n",
              "4  1  57  69  68  75  69  74  73  ...  69    67    79    77    72    70    61    65\n",
              "\n",
              "[5 rows x 45 columns]"
            ]
          },
          "metadata": {
            "tags": []
          },
          "execution_count": 2
        }
      ]
    },
    {
      "cell_type": "code",
      "metadata": {
        "id": "u3nDGPR0OQWC",
        "colab_type": "code",
        "colab": {}
      },
      "source": [
        "target=df[['1']]\n",
        "df=df.drop(labels='1',axis=1)"
      ],
      "execution_count": 0,
      "outputs": []
    },
    {
      "cell_type": "code",
      "metadata": {
        "id": "S6bUd9Kn-ggd",
        "colab_type": "code",
        "colab": {}
      },
      "source": [
        "column_head=[(lambda x,y: \"F\"+str(x)+y) (x,y) for x in range(1,23) for y in ['R','S']]"
      ],
      "execution_count": 0,
      "outputs": []
    },
    {
      "cell_type": "code",
      "metadata": {
        "id": "fPTKpuLRBANt",
        "colab_type": "code",
        "colab": {}
      },
      "source": [
        "df.columns=column_head"
      ],
      "execution_count": 0,
      "outputs": []
    },
    {
      "cell_type": "code",
      "metadata": {
        "id": "qq3eyVEmsf6N",
        "colab_type": "code",
        "outputId": "96fcee6f-f293-40ed-9d10-04c401084683",
        "colab": {
          "base_uri": "https://localhost:8080/",
          "height": 222
        }
      },
      "source": [
        "dft=pd.read_csv(\"https://raw.githubusercontent.com/theadityashukla/EDA_SPECT_Heart/master/SPECTF/SPECTF_test.csv\")\n",
        "dft.head()"
      ],
      "execution_count": 6,
      "outputs": [
        {
          "output_type": "execute_result",
          "data": {
            "text/html": [
              "<div>\n",
              "<style scoped>\n",
              "    .dataframe tbody tr th:only-of-type {\n",
              "        vertical-align: middle;\n",
              "    }\n",
              "\n",
              "    .dataframe tbody tr th {\n",
              "        vertical-align: top;\n",
              "    }\n",
              "\n",
              "    .dataframe thead th {\n",
              "        text-align: right;\n",
              "    }\n",
              "</style>\n",
              "<table border=\"1\" class=\"dataframe\">\n",
              "  <thead>\n",
              "    <tr style=\"text-align: right;\">\n",
              "      <th></th>\n",
              "      <th>1</th>\n",
              "      <th>67</th>\n",
              "      <th>68</th>\n",
              "      <th>73</th>\n",
              "      <th>78</th>\n",
              "      <th>65</th>\n",
              "      <th>63</th>\n",
              "      <th>67.1</th>\n",
              "      <th>60</th>\n",
              "      <th>63.1</th>\n",
              "      <th>62</th>\n",
              "      <th>71</th>\n",
              "      <th>68.1</th>\n",
              "      <th>76</th>\n",
              "      <th>73.1</th>\n",
              "      <th>59</th>\n",
              "      <th>61</th>\n",
              "      <th>62.1</th>\n",
              "      <th>56</th>\n",
              "      <th>74</th>\n",
              "      <th>73.2</th>\n",
              "      <th>78.1</th>\n",
              "      <th>76.1</th>\n",
              "      <th>79</th>\n",
              "      <th>79.1</th>\n",
              "      <th>70</th>\n",
              "      <th>70.1</th>\n",
              "      <th>68.2</th>\n",
              "      <th>67.2</th>\n",
              "      <th>65.1</th>\n",
              "      <th>67.3</th>\n",
              "      <th>76.2</th>\n",
              "      <th>75</th>\n",
              "      <th>63.2</th>\n",
              "      <th>61.1</th>\n",
              "      <th>61.2</th>\n",
              "      <th>56.1</th>\n",
              "      <th>76.3</th>\n",
              "      <th>75.1</th>\n",
              "      <th>74.1</th>\n",
              "      <th>77</th>\n",
              "      <th>76.4</th>\n",
              "      <th>74.2</th>\n",
              "      <th>59.1</th>\n",
              "      <th>68.3</th>\n",
              "    </tr>\n",
              "  </thead>\n",
              "  <tbody>\n",
              "    <tr>\n",
              "      <th>0</th>\n",
              "      <td>1</td>\n",
              "      <td>75</td>\n",
              "      <td>74</td>\n",
              "      <td>71</td>\n",
              "      <td>71</td>\n",
              "      <td>62</td>\n",
              "      <td>58</td>\n",
              "      <td>70</td>\n",
              "      <td>64</td>\n",
              "      <td>71</td>\n",
              "      <td>68</td>\n",
              "      <td>76</td>\n",
              "      <td>68</td>\n",
              "      <td>71</td>\n",
              "      <td>71</td>\n",
              "      <td>58</td>\n",
              "      <td>58</td>\n",
              "      <td>70</td>\n",
              "      <td>69</td>\n",
              "      <td>70</td>\n",
              "      <td>72</td>\n",
              "      <td>75</td>\n",
              "      <td>73</td>\n",
              "      <td>74</td>\n",
              "      <td>72</td>\n",
              "      <td>66</td>\n",
              "      <td>60</td>\n",
              "      <td>63</td>\n",
              "      <td>66</td>\n",
              "      <td>70</td>\n",
              "      <td>64</td>\n",
              "      <td>75</td>\n",
              "      <td>70</td>\n",
              "      <td>64</td>\n",
              "      <td>62</td>\n",
              "      <td>66</td>\n",
              "      <td>62</td>\n",
              "      <td>68</td>\n",
              "      <td>69</td>\n",
              "      <td>69</td>\n",
              "      <td>66</td>\n",
              "      <td>64</td>\n",
              "      <td>58</td>\n",
              "      <td>57</td>\n",
              "      <td>52</td>\n",
              "    </tr>\n",
              "    <tr>\n",
              "      <th>1</th>\n",
              "      <td>1</td>\n",
              "      <td>83</td>\n",
              "      <td>64</td>\n",
              "      <td>66</td>\n",
              "      <td>67</td>\n",
              "      <td>67</td>\n",
              "      <td>74</td>\n",
              "      <td>74</td>\n",
              "      <td>72</td>\n",
              "      <td>64</td>\n",
              "      <td>68</td>\n",
              "      <td>75</td>\n",
              "      <td>73</td>\n",
              "      <td>78</td>\n",
              "      <td>73</td>\n",
              "      <td>72</td>\n",
              "      <td>57</td>\n",
              "      <td>71</td>\n",
              "      <td>67</td>\n",
              "      <td>73</td>\n",
              "      <td>65</td>\n",
              "      <td>78</td>\n",
              "      <td>73</td>\n",
              "      <td>76</td>\n",
              "      <td>69</td>\n",
              "      <td>63</td>\n",
              "      <td>57</td>\n",
              "      <td>63</td>\n",
              "      <td>53</td>\n",
              "      <td>67</td>\n",
              "      <td>60</td>\n",
              "      <td>77</td>\n",
              "      <td>74</td>\n",
              "      <td>69</td>\n",
              "      <td>64</td>\n",
              "      <td>67</td>\n",
              "      <td>64</td>\n",
              "      <td>69</td>\n",
              "      <td>63</td>\n",
              "      <td>68</td>\n",
              "      <td>54</td>\n",
              "      <td>65</td>\n",
              "      <td>64</td>\n",
              "      <td>43</td>\n",
              "      <td>42</td>\n",
              "    </tr>\n",
              "    <tr>\n",
              "      <th>2</th>\n",
              "      <td>1</td>\n",
              "      <td>72</td>\n",
              "      <td>66</td>\n",
              "      <td>65</td>\n",
              "      <td>65</td>\n",
              "      <td>64</td>\n",
              "      <td>61</td>\n",
              "      <td>71</td>\n",
              "      <td>78</td>\n",
              "      <td>73</td>\n",
              "      <td>69</td>\n",
              "      <td>68</td>\n",
              "      <td>65</td>\n",
              "      <td>62</td>\n",
              "      <td>65</td>\n",
              "      <td>66</td>\n",
              "      <td>66</td>\n",
              "      <td>72</td>\n",
              "      <td>74</td>\n",
              "      <td>67</td>\n",
              "      <td>61</td>\n",
              "      <td>77</td>\n",
              "      <td>71</td>\n",
              "      <td>68</td>\n",
              "      <td>65</td>\n",
              "      <td>64</td>\n",
              "      <td>60</td>\n",
              "      <td>73</td>\n",
              "      <td>69</td>\n",
              "      <td>70</td>\n",
              "      <td>69</td>\n",
              "      <td>74</td>\n",
              "      <td>72</td>\n",
              "      <td>61</td>\n",
              "      <td>63</td>\n",
              "      <td>69</td>\n",
              "      <td>68</td>\n",
              "      <td>68</td>\n",
              "      <td>63</td>\n",
              "      <td>71</td>\n",
              "      <td>72</td>\n",
              "      <td>65</td>\n",
              "      <td>63</td>\n",
              "      <td>58</td>\n",
              "      <td>60</td>\n",
              "    </tr>\n",
              "    <tr>\n",
              "      <th>3</th>\n",
              "      <td>1</td>\n",
              "      <td>62</td>\n",
              "      <td>60</td>\n",
              "      <td>69</td>\n",
              "      <td>61</td>\n",
              "      <td>63</td>\n",
              "      <td>63</td>\n",
              "      <td>70</td>\n",
              "      <td>68</td>\n",
              "      <td>70</td>\n",
              "      <td>65</td>\n",
              "      <td>77</td>\n",
              "      <td>56</td>\n",
              "      <td>71</td>\n",
              "      <td>65</td>\n",
              "      <td>69</td>\n",
              "      <td>68</td>\n",
              "      <td>74</td>\n",
              "      <td>78</td>\n",
              "      <td>77</td>\n",
              "      <td>70</td>\n",
              "      <td>80</td>\n",
              "      <td>73</td>\n",
              "      <td>79</td>\n",
              "      <td>75</td>\n",
              "      <td>76</td>\n",
              "      <td>67</td>\n",
              "      <td>74</td>\n",
              "      <td>69</td>\n",
              "      <td>66</td>\n",
              "      <td>71</td>\n",
              "      <td>70</td>\n",
              "      <td>61</td>\n",
              "      <td>54</td>\n",
              "      <td>54</td>\n",
              "      <td>66</td>\n",
              "      <td>66</td>\n",
              "      <td>58</td>\n",
              "      <td>56</td>\n",
              "      <td>72</td>\n",
              "      <td>73</td>\n",
              "      <td>71</td>\n",
              "      <td>64</td>\n",
              "      <td>49</td>\n",
              "      <td>42</td>\n",
              "    </tr>\n",
              "    <tr>\n",
              "      <th>4</th>\n",
              "      <td>1</td>\n",
              "      <td>68</td>\n",
              "      <td>63</td>\n",
              "      <td>67</td>\n",
              "      <td>67</td>\n",
              "      <td>65</td>\n",
              "      <td>72</td>\n",
              "      <td>74</td>\n",
              "      <td>72</td>\n",
              "      <td>70</td>\n",
              "      <td>71</td>\n",
              "      <td>79</td>\n",
              "      <td>71</td>\n",
              "      <td>72</td>\n",
              "      <td>67</td>\n",
              "      <td>68</td>\n",
              "      <td>69</td>\n",
              "      <td>75</td>\n",
              "      <td>79</td>\n",
              "      <td>67</td>\n",
              "      <td>65</td>\n",
              "      <td>78</td>\n",
              "      <td>69</td>\n",
              "      <td>72</td>\n",
              "      <td>67</td>\n",
              "      <td>64</td>\n",
              "      <td>59</td>\n",
              "      <td>67</td>\n",
              "      <td>65</td>\n",
              "      <td>73</td>\n",
              "      <td>70</td>\n",
              "      <td>80</td>\n",
              "      <td>69</td>\n",
              "      <td>63</td>\n",
              "      <td>61</td>\n",
              "      <td>70</td>\n",
              "      <td>70</td>\n",
              "      <td>70</td>\n",
              "      <td>67</td>\n",
              "      <td>77</td>\n",
              "      <td>71</td>\n",
              "      <td>77</td>\n",
              "      <td>72</td>\n",
              "      <td>68</td>\n",
              "      <td>59</td>\n",
              "    </tr>\n",
              "  </tbody>\n",
              "</table>\n",
              "</div>"
            ],
            "text/plain": [
              "   1   67   68   73   78   65  ...   74.1   77   76.4   74.2   59.1   68.3\n",
              "0  1   75   74   71   71   62  ...     69   66     64     58     57     52\n",
              "1  1   83   64   66   67   67  ...     68   54     65     64     43     42\n",
              "2  1   72   66   65   65   64  ...     71   72     65     63     58     60\n",
              "3  1   62   60   69   61   63  ...     72   73     71     64     49     42\n",
              "4  1   68   63   67   67   65  ...     77   71     77     72     68     59\n",
              "\n",
              "[5 rows x 45 columns]"
            ]
          },
          "metadata": {
            "tags": []
          },
          "execution_count": 6
        }
      ]
    },
    {
      "cell_type": "code",
      "metadata": {
        "id": "459bIJwatJ9-",
        "colab_type": "code",
        "colab": {}
      },
      "source": [
        "test_target=dft[['1']]\n",
        "dft=dft.drop(labels='1',axis=1)\n",
        "column_head=[(lambda x,y: \"F\"+str(x)+y) (x,y) for x in range(1,23) for y in ['R','S']]\n",
        "dft.columns=column_head"
      ],
      "execution_count": 0,
      "outputs": []
    },
    {
      "cell_type": "code",
      "metadata": {
        "id": "E9JK3Q79ugLV",
        "colab_type": "code",
        "outputId": "4df7e4a0-7dd3-4ca3-8e10-cff952ec92f7",
        "colab": {
          "base_uri": "https://localhost:8080/",
          "height": 130
        }
      },
      "source": [
        "dft.head(2)"
      ],
      "execution_count": 8,
      "outputs": [
        {
          "output_type": "execute_result",
          "data": {
            "text/html": [
              "<div>\n",
              "<style scoped>\n",
              "    .dataframe tbody tr th:only-of-type {\n",
              "        vertical-align: middle;\n",
              "    }\n",
              "\n",
              "    .dataframe tbody tr th {\n",
              "        vertical-align: top;\n",
              "    }\n",
              "\n",
              "    .dataframe thead th {\n",
              "        text-align: right;\n",
              "    }\n",
              "</style>\n",
              "<table border=\"1\" class=\"dataframe\">\n",
              "  <thead>\n",
              "    <tr style=\"text-align: right;\">\n",
              "      <th></th>\n",
              "      <th>F1R</th>\n",
              "      <th>F1S</th>\n",
              "      <th>F2R</th>\n",
              "      <th>F2S</th>\n",
              "      <th>F3R</th>\n",
              "      <th>F3S</th>\n",
              "      <th>F4R</th>\n",
              "      <th>F4S</th>\n",
              "      <th>F5R</th>\n",
              "      <th>F5S</th>\n",
              "      <th>F6R</th>\n",
              "      <th>F6S</th>\n",
              "      <th>F7R</th>\n",
              "      <th>F7S</th>\n",
              "      <th>F8R</th>\n",
              "      <th>F8S</th>\n",
              "      <th>F9R</th>\n",
              "      <th>F9S</th>\n",
              "      <th>F10R</th>\n",
              "      <th>F10S</th>\n",
              "      <th>F11R</th>\n",
              "      <th>F11S</th>\n",
              "      <th>F12R</th>\n",
              "      <th>F12S</th>\n",
              "      <th>F13R</th>\n",
              "      <th>F13S</th>\n",
              "      <th>F14R</th>\n",
              "      <th>F14S</th>\n",
              "      <th>F15R</th>\n",
              "      <th>F15S</th>\n",
              "      <th>F16R</th>\n",
              "      <th>F16S</th>\n",
              "      <th>F17R</th>\n",
              "      <th>F17S</th>\n",
              "      <th>F18R</th>\n",
              "      <th>F18S</th>\n",
              "      <th>F19R</th>\n",
              "      <th>F19S</th>\n",
              "      <th>F20R</th>\n",
              "      <th>F20S</th>\n",
              "      <th>F21R</th>\n",
              "      <th>F21S</th>\n",
              "      <th>F22R</th>\n",
              "      <th>F22S</th>\n",
              "    </tr>\n",
              "  </thead>\n",
              "  <tbody>\n",
              "    <tr>\n",
              "      <th>0</th>\n",
              "      <td>75</td>\n",
              "      <td>74</td>\n",
              "      <td>71</td>\n",
              "      <td>71</td>\n",
              "      <td>62</td>\n",
              "      <td>58</td>\n",
              "      <td>70</td>\n",
              "      <td>64</td>\n",
              "      <td>71</td>\n",
              "      <td>68</td>\n",
              "      <td>76</td>\n",
              "      <td>68</td>\n",
              "      <td>71</td>\n",
              "      <td>71</td>\n",
              "      <td>58</td>\n",
              "      <td>58</td>\n",
              "      <td>70</td>\n",
              "      <td>69</td>\n",
              "      <td>70</td>\n",
              "      <td>72</td>\n",
              "      <td>75</td>\n",
              "      <td>73</td>\n",
              "      <td>74</td>\n",
              "      <td>72</td>\n",
              "      <td>66</td>\n",
              "      <td>60</td>\n",
              "      <td>63</td>\n",
              "      <td>66</td>\n",
              "      <td>70</td>\n",
              "      <td>64</td>\n",
              "      <td>75</td>\n",
              "      <td>70</td>\n",
              "      <td>64</td>\n",
              "      <td>62</td>\n",
              "      <td>66</td>\n",
              "      <td>62</td>\n",
              "      <td>68</td>\n",
              "      <td>69</td>\n",
              "      <td>69</td>\n",
              "      <td>66</td>\n",
              "      <td>64</td>\n",
              "      <td>58</td>\n",
              "      <td>57</td>\n",
              "      <td>52</td>\n",
              "    </tr>\n",
              "    <tr>\n",
              "      <th>1</th>\n",
              "      <td>83</td>\n",
              "      <td>64</td>\n",
              "      <td>66</td>\n",
              "      <td>67</td>\n",
              "      <td>67</td>\n",
              "      <td>74</td>\n",
              "      <td>74</td>\n",
              "      <td>72</td>\n",
              "      <td>64</td>\n",
              "      <td>68</td>\n",
              "      <td>75</td>\n",
              "      <td>73</td>\n",
              "      <td>78</td>\n",
              "      <td>73</td>\n",
              "      <td>72</td>\n",
              "      <td>57</td>\n",
              "      <td>71</td>\n",
              "      <td>67</td>\n",
              "      <td>73</td>\n",
              "      <td>65</td>\n",
              "      <td>78</td>\n",
              "      <td>73</td>\n",
              "      <td>76</td>\n",
              "      <td>69</td>\n",
              "      <td>63</td>\n",
              "      <td>57</td>\n",
              "      <td>63</td>\n",
              "      <td>53</td>\n",
              "      <td>67</td>\n",
              "      <td>60</td>\n",
              "      <td>77</td>\n",
              "      <td>74</td>\n",
              "      <td>69</td>\n",
              "      <td>64</td>\n",
              "      <td>67</td>\n",
              "      <td>64</td>\n",
              "      <td>69</td>\n",
              "      <td>63</td>\n",
              "      <td>68</td>\n",
              "      <td>54</td>\n",
              "      <td>65</td>\n",
              "      <td>64</td>\n",
              "      <td>43</td>\n",
              "      <td>42</td>\n",
              "    </tr>\n",
              "  </tbody>\n",
              "</table>\n",
              "</div>"
            ],
            "text/plain": [
              "   F1R  F1S  F2R  F2S  F3R  F3S  F4R  ...  F19S  F20R  F20S  F21R  F21S  F22R  F22S\n",
              "0   75   74   71   71   62   58   70  ...    69    69    66    64    58    57    52\n",
              "1   83   64   66   67   67   74   74  ...    63    68    54    65    64    43    42\n",
              "\n",
              "[2 rows x 44 columns]"
            ]
          },
          "metadata": {
            "tags": []
          },
          "execution_count": 8
        }
      ]
    },
    {
      "cell_type": "code",
      "metadata": {
        "id": "dUhhDeHfBCJI",
        "colab_type": "code",
        "outputId": "3a37cdbb-13ca-49e9-e297-8ba9d58c79b2",
        "colab": {
          "base_uri": "https://localhost:8080/",
          "height": 99
        }
      },
      "source": [
        "df.head(1)"
      ],
      "execution_count": 9,
      "outputs": [
        {
          "output_type": "execute_result",
          "data": {
            "text/html": [
              "<div>\n",
              "<style scoped>\n",
              "    .dataframe tbody tr th:only-of-type {\n",
              "        vertical-align: middle;\n",
              "    }\n",
              "\n",
              "    .dataframe tbody tr th {\n",
              "        vertical-align: top;\n",
              "    }\n",
              "\n",
              "    .dataframe thead th {\n",
              "        text-align: right;\n",
              "    }\n",
              "</style>\n",
              "<table border=\"1\" class=\"dataframe\">\n",
              "  <thead>\n",
              "    <tr style=\"text-align: right;\">\n",
              "      <th></th>\n",
              "      <th>F1R</th>\n",
              "      <th>F1S</th>\n",
              "      <th>F2R</th>\n",
              "      <th>F2S</th>\n",
              "      <th>F3R</th>\n",
              "      <th>F3S</th>\n",
              "      <th>F4R</th>\n",
              "      <th>F4S</th>\n",
              "      <th>F5R</th>\n",
              "      <th>F5S</th>\n",
              "      <th>F6R</th>\n",
              "      <th>F6S</th>\n",
              "      <th>F7R</th>\n",
              "      <th>F7S</th>\n",
              "      <th>F8R</th>\n",
              "      <th>F8S</th>\n",
              "      <th>F9R</th>\n",
              "      <th>F9S</th>\n",
              "      <th>F10R</th>\n",
              "      <th>F10S</th>\n",
              "      <th>F11R</th>\n",
              "      <th>F11S</th>\n",
              "      <th>F12R</th>\n",
              "      <th>F12S</th>\n",
              "      <th>F13R</th>\n",
              "      <th>F13S</th>\n",
              "      <th>F14R</th>\n",
              "      <th>F14S</th>\n",
              "      <th>F15R</th>\n",
              "      <th>F15S</th>\n",
              "      <th>F16R</th>\n",
              "      <th>F16S</th>\n",
              "      <th>F17R</th>\n",
              "      <th>F17S</th>\n",
              "      <th>F18R</th>\n",
              "      <th>F18S</th>\n",
              "      <th>F19R</th>\n",
              "      <th>F19S</th>\n",
              "      <th>F20R</th>\n",
              "      <th>F20S</th>\n",
              "      <th>F21R</th>\n",
              "      <th>F21S</th>\n",
              "      <th>F22R</th>\n",
              "      <th>F22S</th>\n",
              "    </tr>\n",
              "  </thead>\n",
              "  <tbody>\n",
              "    <tr>\n",
              "      <th>0</th>\n",
              "      <td>72</td>\n",
              "      <td>62</td>\n",
              "      <td>69</td>\n",
              "      <td>67</td>\n",
              "      <td>78</td>\n",
              "      <td>82</td>\n",
              "      <td>74</td>\n",
              "      <td>65</td>\n",
              "      <td>69</td>\n",
              "      <td>63</td>\n",
              "      <td>70</td>\n",
              "      <td>70</td>\n",
              "      <td>72</td>\n",
              "      <td>74</td>\n",
              "      <td>70</td>\n",
              "      <td>71</td>\n",
              "      <td>72</td>\n",
              "      <td>75</td>\n",
              "      <td>66</td>\n",
              "      <td>65</td>\n",
              "      <td>73</td>\n",
              "      <td>78</td>\n",
              "      <td>74</td>\n",
              "      <td>79</td>\n",
              "      <td>74</td>\n",
              "      <td>69</td>\n",
              "      <td>69</td>\n",
              "      <td>70</td>\n",
              "      <td>71</td>\n",
              "      <td>69</td>\n",
              "      <td>72</td>\n",
              "      <td>70</td>\n",
              "      <td>62</td>\n",
              "      <td>65</td>\n",
              "      <td>65</td>\n",
              "      <td>71</td>\n",
              "      <td>63</td>\n",
              "      <td>60</td>\n",
              "      <td>69</td>\n",
              "      <td>73</td>\n",
              "      <td>67</td>\n",
              "      <td>71</td>\n",
              "      <td>56</td>\n",
              "      <td>58</td>\n",
              "    </tr>\n",
              "  </tbody>\n",
              "</table>\n",
              "</div>"
            ],
            "text/plain": [
              "   F1R  F1S  F2R  F2S  F3R  F3S  F4R  ...  F19S  F20R  F20S  F21R  F21S  F22R  F22S\n",
              "0   72   62   69   67   78   82   74  ...    60    69    73    67    71    56    58\n",
              "\n",
              "[1 rows x 44 columns]"
            ]
          },
          "metadata": {
            "tags": []
          },
          "execution_count": 9
        }
      ]
    },
    {
      "cell_type": "markdown",
      "metadata": {
        "id": "UDPz2d9pIiqv",
        "colab_type": "text"
      },
      "source": [
        "## Principal Component Analysis"
      ]
    },
    {
      "cell_type": "code",
      "metadata": {
        "id": "nVVQo2WECBi3",
        "colab_type": "code",
        "outputId": "74c251e6-0602-4b0e-a701-71a703c3c627",
        "colab": {
          "base_uri": "https://localhost:8080/",
          "height": 295
        }
      },
      "source": [
        "from sklearn.decomposition import PCA\n",
        "pca = PCA().fit(df)\n",
        "#Plotting the Cumulative Summation of the Explained Variance\n",
        "plt.figure()\n",
        "plt.plot(np.cumsum(pca.explained_variance_ratio_))\n",
        "plt.xlabel('Number of Components')\n",
        "plt.ylabel('Variance (%)') #for each component\n",
        "plt.title('Pulsar Dataset Explained Variance')\n",
        "plt.show()"
      ],
      "execution_count": 10,
      "outputs": [
        {
          "output_type": "display_data",
          "data": {
            "image/png": "[encoded data removed]",
            "text/plain": [
              "<Figure size 432x288 with 1 Axes>"
            ]
          },
          "metadata": {
            "tags": []
          }
        }
      ]
    },
    {
      "cell_type": "code",
      "metadata": {
        "id": "sijBpGpQLTpE",
        "colab_type": "code",
        "colab": {}
      },
      "source": [
        "pc=PCA(n_components=34,svd_solver='randomized').fit(df)"
      ],
      "execution_count": 0,
      "outputs": []
    },
    {
      "cell_type": "code",
      "metadata": {
        "id": "eUtAvGwxLdBj",
        "colab_type": "code",
        "colab": {}
      },
      "source": [
        "x_train=pca.transform(df)"
      ],
      "execution_count": 0,
      "outputs": []
    },
    {
      "cell_type": "code",
      "metadata": {
        "id": "JLOvOXmg-Sww",
        "colab_type": "code",
        "outputId": "ef05428b-dfb1-4829-d7a6-1bf7cca8cfa7",
        "colab": {
          "base_uri": "https://localhost:8080/",
          "height": 243
        }
      },
      "source": [
        "x_train"
      ],
      "execution_count": 13,
      "outputs": [
        {
          "output_type": "execute_result",
          "data": {
            "text/plain": [
              "array([[-2.25153691e+01,  4.43400602e+00,  1.09025298e+01, ...,\n",
              "         2.36547079e-01, -1.90600607e-01, -1.54656216e-01],\n",
              "       [ 2.40190220e+01, -3.16216506e+01,  1.86551363e+01, ...,\n",
              "        -8.22678816e-01, -1.57392166e+00, -1.01786125e+00],\n",
              "       [-2.19734319e+00,  1.43263594e+01, -1.25115570e+01, ...,\n",
              "         7.13284185e-01, -1.66991206e+00, -1.20327601e+00],\n",
              "       ...,\n",
              "       [-2.00323653e+01,  1.40177059e+01, -9.34358705e+00, ...,\n",
              "        -7.95600589e-01,  5.07720674e-01,  2.11010169e-02],\n",
              "       [ 6.43860906e+00, -1.74391901e+01, -6.30872656e+00, ...,\n",
              "        -4.38786023e-01, -7.58102783e-01,  3.83601119e-01],\n",
              "       [-1.04968178e+01,  8.34998664e+00,  3.96402167e+00, ...,\n",
              "         7.85465149e-01,  2.21166304e-01, -4.88880228e-01]])"
            ]
          },
          "metadata": {
            "tags": []
          },
          "execution_count": 13
        }
      ]
    },
    {
      "cell_type": "code",
      "metadata": {
        "id": "myR3pkKAv46M",
        "colab_type": "code",
        "outputId": "cb11747b-62dc-4b3d-955f-6c6f3eb73fa2",
        "colab": {
          "base_uri": "https://localhost:8080/",
          "height": 243
        }
      },
      "source": [
        "x_test=pca.transform(dft)\n",
        "x_test"
      ],
      "execution_count": 14,
      "outputs": [
        {
          "output_type": "execute_result",
          "data": {
            "text/plain": [
              "array([[ -1.17530963, -10.80210189,   1.69345964, ...,   0.6992736 ,\n",
              "          1.08949346,  -0.57320507],\n",
              "       [  8.4969187 ,  -7.7891098 ,  -1.81119436, ...,  -4.35426022,\n",
              "          3.98596719,   0.70649879],\n",
              "       [ -7.50081378,  -5.72300766,  16.19286928, ...,   3.68446802,\n",
              "         -1.84276515,   0.83848757],\n",
              "       ...,\n",
              "       [-30.19021928,  -0.3435545 ,  -8.16100715, ...,  -1.46218476,\n",
              "          0.79210118,   3.20569344],\n",
              "       [-26.59534356,  10.57124998,  -7.1436282 , ...,  -2.58869222,\n",
              "         -1.93432059,  -0.07608877],\n",
              "       [-11.28520906,  -8.83121585,   9.72864556, ...,  -3.21410934,\n",
              "          1.31835611,  -0.17280859]])"
            ]
          },
          "metadata": {
            "tags": []
          },
          "execution_count": 14
        }
      ]
    },
    {
      "cell_type": "markdown",
      "metadata": {
        "id": "f-KyM_DFeT2Q",
        "colab_type": "text"
      },
      "source": [
        "## K-Means Clusterning"
      ]
    },
    {
      "cell_type": "code",
      "metadata": {
        "id": "uZoM_glIarB-",
        "colab_type": "code",
        "colab": {}
      },
      "source": [
        "from sklearn.cluster import KMeans"
      ],
      "execution_count": 0,
      "outputs": []
    },
    {
      "cell_type": "code",
      "metadata": {
        "id": "EpvJmI_EGbbX",
        "colab_type": "code",
        "outputId": "9da7d46c-212d-446e-ffd6-83ad6b64fd44",
        "colab": {
          "base_uri": "https://localhost:8080/",
          "height": 35
        }
      },
      "source": [
        "kmn=KMeans(n_clusters=2)\n",
        "kmn.fit(df,target)\n",
        "pred_value=kmn.predict(x_test)\n",
        "accuracy_score(test_target,pred_value)"
      ],
      "execution_count": 29,
      "outputs": [
        {
          "output_type": "execute_result",
          "data": {
            "text/plain": [
              "0.9193548387096774"
            ]
          },
          "metadata": {
            "tags": []
          },
          "execution_count": 29
        }
      ]
    },
    {
      "cell_type": "code",
      "metadata": {
        "id": "mhw0-HcxpY3B",
        "colab_type": "code",
        "colab": {
          "base_uri": "https://localhost:8080/",
          "height": 35
        },
        "outputId": "41193e75-6b12-4482-db0b-06c2f770b0cd"
      },
      "source": [
        "kmn.n_iter_"
      ],
      "execution_count": 30,
      "outputs": [
        {
          "output_type": "execute_result",
          "data": {
            "text/plain": [
              "4"
            ]
          },
          "metadata": {
            "tags": []
          },
          "execution_count": 30
        }
      ]
    },
    {
      "cell_type": "markdown",
      "metadata": {
        "id": "OOta0eWfebLj",
        "colab_type": "text"
      },
      "source": [
        "## Support Vector Machines"
      ]
    },
    {
      "cell_type": "code",
      "metadata": {
        "id": "440iMVMPGyef",
        "colab_type": "code",
        "colab": {}
      },
      "source": [
        "from sklearn import svm"
      ],
      "execution_count": 0,
      "outputs": []
    },
    {
      "cell_type": "markdown",
      "metadata": {
        "id": "SvKsGA9Cesu3",
        "colab_type": "text"
      },
      "source": [
        "### Kernel: Linear Kernel ; C=10"
      ]
    },
    {
      "cell_type": "code",
      "metadata": {
        "id": "jpVk8my_tJPA",
        "colab_type": "code",
        "outputId": "713708e4-a280-4b5c-91c7-1ad2221c5992",
        "colab": {
          "base_uri": "https://localhost:8080/",
          "height": 89
        }
      },
      "source": [
        "svc=svm.SVC(kernel='linear',C=10)\n",
        "svc.fit(x_train,target)\n",
        "pred_val=svc.predict(x_test)\n",
        "accuracy_score(test_target,pred_val)"
      ],
      "execution_count": 18,
      "outputs": [
        {
          "output_type": "stream",
          "text": [
            "/usr/local/lib/python3.6/dist-packages/sklearn/utils/validation.py:760: DataConversionWarning: A column-vector y was passed when a 1d array was expected. Please change the shape of y to (n_samples, ), for example using ravel().\n",
            "  y = column_or_1d(y, warn=True)\n"
          ],
          "name": "stderr"
        },
        {
          "output_type": "execute_result",
          "data": {
            "text/plain": [
              "0.7258064516129032"
            ]
          },
          "metadata": {
            "tags": []
          },
          "execution_count": 18
        }
      ]
    },
    {
      "cell_type": "markdown",
      "metadata": {
        "id": "C2LsqQAEevST",
        "colab_type": "text"
      },
      "source": [
        "### Kernel: RBF ; C=940 ; Gamma = 0.004"
      ]
    },
    {
      "cell_type": "code",
      "metadata": {
        "colab_type": "code",
        "outputId": "6e72797f-5629-4fff-89cb-ed616e0035f4",
        "id": "MSO8_Bn7yXnv",
        "colab": {
          "base_uri": "https://localhost:8080/",
          "height": 89
        }
      },
      "source": [
        "svc=svm.SVC(kernel='rbf',gamma=0.0034,C=100000)\n",
        "svc.fit(df,target)\n",
        "pred_val=svc.predict(dft)\n",
        "accuracy_score(test_target,pred_val)"
      ],
      "execution_count": 19,
      "outputs": [
        {
          "output_type": "stream",
          "text": [
            "/usr/local/lib/python3.6/dist-packages/sklearn/utils/validation.py:760: DataConversionWarning: A column-vector y was passed when a 1d array was expected. Please change the shape of y to (n_samples, ), for example using ravel().\n",
            "  y = column_or_1d(y, warn=True)\n"
          ],
          "name": "stderr"
        },
        {
          "output_type": "execute_result",
          "data": {
            "text/plain": [
              "0.8118279569892473"
            ]
          },
          "metadata": {
            "tags": []
          },
          "execution_count": 19
        }
      ]
    },
    {
      "cell_type": "markdown",
      "metadata": {
        "id": "fWde3k5cOXSV",
        "colab_type": "text"
      },
      "source": [
        "### Kernel: Gaussian Kernel ; C=940 ; Gamma = 0.004"
      ]
    },
    {
      "cell_type": "code",
      "metadata": {
        "id": "pj1KFwI-O357",
        "colab_type": "code",
        "outputId": "deee3fce-6f9d-4300-edd3-c16e217bed17",
        "colab": {
          "base_uri": "https://localhost:8080/",
          "height": 89
        }
      },
      "source": [
        "from sklearn.gaussian_process.kernels import RBF\n",
        "gsvc=svm.SVC(kernel=RBF(),C=940,gamma=0.004).fit(x_train,target)\n",
        "predict_gsvc=gsvc.predict(x_test)\n",
        "accuracy_score(test_target,predict_gsvc)"
      ],
      "execution_count": 20,
      "outputs": [
        {
          "output_type": "stream",
          "text": [
            "/usr/local/lib/python3.6/dist-packages/sklearn/utils/validation.py:760: DataConversionWarning: A column-vector y was passed when a 1d array was expected. Please change the shape of y to (n_samples, ), for example using ravel().\n",
            "  y = column_or_1d(y, warn=True)\n"
          ],
          "name": "stderr"
        },
        {
          "output_type": "execute_result",
          "data": {
            "text/plain": [
              "0.08064516129032258"
            ]
          },
          "metadata": {
            "tags": []
          },
          "execution_count": 20
        }
      ]
    },
    {
      "cell_type": "markdown",
      "metadata": {
        "id": "nQ3kgv5LPur6",
        "colab_type": "text"
      },
      "source": [
        "## Naive Bayes"
      ]
    },
    {
      "cell_type": "markdown",
      "metadata": {
        "id": "J1UAMSVAP6V6",
        "colab_type": "text"
      },
      "source": [
        "### Gaussian"
      ]
    },
    {
      "cell_type": "code",
      "metadata": {
        "id": "hl0geMGqP5ZE",
        "colab_type": "code",
        "outputId": "8c411382-28f6-481b-8e56-6d16090b02b6",
        "colab": {
          "base_uri": "https://localhost:8080/",
          "height": 89
        }
      },
      "source": [
        "from sklearn.naive_bayes import GaussianNB\n",
        "naive=GaussianNB().fit(x_train,target)\n",
        "naive_prediction=naive.predict(x_test)\n",
        "accuracy_score(test_target,naive_prediction)"
      ],
      "execution_count": 21,
      "outputs": [
        {
          "output_type": "stream",
          "text": [
            "/usr/local/lib/python3.6/dist-packages/sklearn/naive_bayes.py:206: DataConversionWarning: A column-vector y was passed when a 1d array was expected. Please change the shape of y to (n_samples, ), for example using ravel().\n",
            "  y = column_or_1d(y, warn=True)\n"
          ],
          "name": "stderr"
        },
        {
          "output_type": "execute_result",
          "data": {
            "text/plain": [
              "0.45698924731182794"
            ]
          },
          "metadata": {
            "tags": []
          },
          "execution_count": 21
        }
      ]
    },
    {
      "cell_type": "markdown",
      "metadata": {
        "id": "2L2EGDIBQHZo",
        "colab_type": "text"
      },
      "source": [
        "### Bernoulli"
      ]
    },
    {
      "cell_type": "code",
      "metadata": {
        "id": "qoXz8JNeQJhr",
        "colab_type": "code",
        "outputId": "5dbef359-06b8-4c65-d976-1329ec945856",
        "colab": {
          "base_uri": "https://localhost:8080/",
          "height": 89
        }
      },
      "source": [
        "from sklearn.naive_bayes import BernoulliNB\n",
        "naive_bern=BernoulliNB(alpha=8).fit(x_train,target)\n",
        "nb_predict=naive_bern.predict(x_test)\n",
        "accuracy_score(test_target,nb_predict)"
      ],
      "execution_count": 22,
      "outputs": [
        {
          "output_type": "stream",
          "text": [
            "/usr/local/lib/python3.6/dist-packages/sklearn/utils/validation.py:760: DataConversionWarning: A column-vector y was passed when a 1d array was expected. Please change the shape of y to (n_samples, ), for example using ravel().\n",
            "  y = column_or_1d(y, warn=True)\n"
          ],
          "name": "stderr"
        },
        {
          "output_type": "execute_result",
          "data": {
            "text/plain": [
              "0.6881720430107527"
            ]
          },
          "metadata": {
            "tags": []
          },
          "execution_count": 22
        }
      ]
    }
  ]
}